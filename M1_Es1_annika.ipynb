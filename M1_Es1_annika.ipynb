{
 "cells": [
  {
   "cell_type": "markdown",
   "metadata": {},
   "source": [
    "# es 1"
   ]
  },
  {
   "cell_type": "code",
   "execution_count": 212,
   "metadata": {},
   "outputs": [
    {
     "name": "stdout",
     "output_type": "stream",
     "text": [
      "shake\n",
      "fake\n",
      "lake\n",
      "make\n",
      "frake\n",
      "take\n",
      "undertake\n"
     ]
    }
   ],
   "source": [
    "import re\n",
    "\n",
    "def rime(word):\n",
    "    res=re.search('a|e|i|o|u',word)\n",
    "    position=word.find(res[0])\n",
    "    suf=word[position:len(word)]\n",
    "    prefix=['sh','f','l','m','fr','t','undert']\n",
    "    \n",
    "    for i in prefix:\n",
    "        print(i+suf)\n",
    "        \n",
    "res=rime('cake')       "
   ]
  },
  {
   "cell_type": "markdown",
   "metadata": {},
   "source": [
    "# es 2"
   ]
  },
  {
   "cell_type": "code",
   "execution_count": null,
   "metadata": {},
   "outputs": [],
   "source": []
  }
 ],
 "metadata": {
  "kernelspec": {
   "display_name": "Python 3",
   "language": "python",
   "name": "python3"
  },
  "language_info": {
   "codemirror_mode": {
    "name": "ipython",
    "version": 3
   },
   "file_extension": ".py",
   "mimetype": "text/x-python",
   "name": "python",
   "nbconvert_exporter": "python",
   "pygments_lexer": "ipython3",
   "version": "3.8.5"
  }
 },
 "nbformat": 4,
 "nbformat_minor": 4
}
